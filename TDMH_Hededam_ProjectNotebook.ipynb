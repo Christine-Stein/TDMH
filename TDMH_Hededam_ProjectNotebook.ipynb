{
 "cells": [
  {
   "cell_type": "markdown",
   "id": "3ad06021",
   "metadata": {},
   "source": [
    "# Women’s Experiences of the American Civil War "
   ]
  },
  {
   "cell_type": "markdown",
   "id": "a8673a56",
   "metadata": {},
   "source": [
    "# Finding the most frequent words"
   ]
  },
  {
   "cell_type": "code",
   "execution_count": 2,
   "id": "5f406e52",
   "metadata": {},
   "outputs": [],
   "source": [
    "#importing the packages and tools needed \n",
    "import nltk\n",
    "from nltk import word_tokenize\n",
    "from tdmh import * \n",
    "from collections import Counter"
   ]
  },
  {
   "cell_type": "code",
   "execution_count": 6,
   "id": "701d2606",
   "metadata": {},
   "outputs": [
    {
     "name": "stdout",
     "output_type": "stream",
     "text": [
      "[('would', 649), ('us', 568), ('one', 564), ('could', 318), ('miriam', 310), ('though', 260), ('mother', 235), ('last', 235), ('two', 217), ('said', 212)]\n"
     ]
    }
   ],
   "source": [
    "import os \n",
    "path = os.path.join('Corpus', 'A_Confederate_Girls_Diary.txt')\n",
    "text = open(path, encoding = 'utf-8')\n",
    "\n",
    "full_text = text.read()\n",
    "\n",
    "words = word_tokenize(full_text.lower())\n",
    "list1 = []\n",
    "for w in words:\n",
    "    if w.isalnum() and w not in stopwords:\n",
    "        list1.append( w )\n",
    "\n",
    "\n",
    "freq = Counter(list1)\n",
    "\n",
    "print(freq.most_common(10))"
   ]
  },
  {
   "cell_type": "code",
   "execution_count": 8,
   "id": "62a64064",
   "metadata": {},
   "outputs": [
    {
     "name": "stdout",
     "output_type": "stream",
     "text": [
      "[('said', 602), ('one', 532), ('us', 499), ('came', 360), ('general', 342), ('man', 341), ('chesnut', 319), ('would', 318), ('men', 295), ('could', 246)]\n"
     ]
    }
   ],
   "source": [
    "import os \n",
    "path = os.path.join('Corpus', 'A_Diary_from_Dixie.txt')\n",
    "text = open(path, encoding = 'utf-8')\n",
    "\n",
    "full_text = text.read()\n",
    "\n",
    "words = word_tokenize(full_text.lower())\n",
    "list2 = []\n",
    "for w in words:\n",
    "    if w.isalnum() and w not in stopwords:\n",
    "        list2.append( w )\n",
    "\n",
    "\n",
    "freq = Counter(list2)\n",
    "\n",
    "print(freq.most_common(10))"
   ]
  },
  {
   "cell_type": "code",
   "execution_count": 9,
   "id": "d3ceabbc",
   "metadata": {},
   "outputs": [
    {
     "name": "stdout",
     "output_type": "stream",
     "text": [
      "[('us', 341), ('said', 294), ('dan', 270), ('would', 249), ('could', 234), ('one', 204), ('see', 181), ('go', 167), ('got', 158), ('know', 150)]\n"
     ]
    }
   ],
   "source": [
    "import os \n",
    "path = os.path.join('Corpus', 'A_Virginia_Girl_in_the_Civil_War.txt')\n",
    "text = open(path, encoding = 'utf-8')\n",
    "\n",
    "full_text = text.read()\n",
    "\n",
    "words = word_tokenize(full_text.lower())\n",
    "list3 = []\n",
    "for w in words:\n",
    "    if w.isalnum() and w not in stopwords:\n",
    "        list3.append( w )\n",
    "\n",
    "\n",
    "freq = Counter(list3)\n",
    "\n",
    "print(freq.most_common(10))"
   ]
  },
  {
   "cell_type": "code",
   "execution_count": 10,
   "id": "3b72b035",
   "metadata": {},
   "outputs": [
    {
     "name": "stdout",
     "output_type": "stream",
     "text": [
      "[('general', 54), ('army', 40), ('would', 38), ('one', 31), ('husband', 30), ('time', 28), ('upon', 26), ('never', 26), ('well', 26), ('lincoln', 25)]\n"
     ]
    }
   ],
   "source": [
    "import os \n",
    "path = os.path.join('Corpus', 'A_Womans_War_Record.txt')\n",
    "text = open(path, encoding = 'utf-8')\n",
    "\n",
    "full_text = text.read()\n",
    "\n",
    "words = word_tokenize(full_text.lower())\n",
    "list4 = []\n",
    "for w in words:\n",
    "    if w.isalnum() and w not in stopwords:\n",
    "        list4.append( w )\n",
    "\n",
    "\n",
    "freq = Counter(list4)\n",
    "\n",
    "print(freq.most_common(10))"
   ]
  },
  {
   "cell_type": "code",
   "execution_count": 11,
   "id": "9ec876c8",
   "metadata": {},
   "outputs": [
    {
     "name": "stdout",
     "output_type": "stream",
     "text": [
      "[('came', 30), ('yankees', 27), ('night', 26), ('could', 25), ('would', 25), ('one', 24), ('house', 22), ('said', 22), ('day', 20), ('see', 19)]\n"
     ]
    }
   ],
   "source": [
    "import os \n",
    "path = os.path.join('Corpus', 'A_Womans_Wartime_Journal.txt')\n",
    "text = open(path, encoding = 'utf-8')\n",
    "\n",
    "full_text = text.read()\n",
    "\n",
    "words = word_tokenize(full_text.lower())\n",
    "list5 = []\n",
    "for w in words:\n",
    "    if w.isalnum() and w not in stopwords:\n",
    "        list5.append( w )\n",
    "\n",
    "\n",
    "freq = Counter(list5)\n",
    "\n",
    "print(freq.most_common(10))"
   ]
  },
  {
   "cell_type": "code",
   "execution_count": 12,
   "id": "fbf89fee",
   "metadata": {},
   "outputs": [
    {
     "name": "stdout",
     "output_type": "stream",
     "text": [
      "[('upon', 168), ('one', 142), ('would', 116), ('general', 111), ('time', 96), ('could', 76), ('room', 73), ('prison', 64), ('confederate', 60), ('belle', 57)]\n"
     ]
    }
   ],
   "source": [
    "import os \n",
    "path = os.path.join('Corpus', 'Belle_Boyd_in_Camp_and_Prison_Vol1.txt')\n",
    "text = open(path, encoding = 'utf-8')\n",
    "\n",
    "full_text = text.read()\n",
    "\n",
    "words = word_tokenize(full_text.lower())\n",
    "list6 = []\n",
    "for w in words:\n",
    "    if w.isalnum() and w not in stopwords:\n",
    "        list6.append( w )\n",
    "\n",
    "\n",
    "freq = Counter(list6)\n",
    "\n",
    "print(freq.most_common(10))"
   ]
  },
  {
   "cell_type": "code",
   "execution_count": 13,
   "id": "aad0f280",
   "metadata": {},
   "outputs": [
    {
     "name": "stdout",
     "output_type": "stream",
     "text": [
      "[('one', 148), ('upon', 121), ('us', 103), ('captain', 101), ('would', 78), ('time', 77), ('said', 77), ('hardinge', 67), ('could', 62), ('room', 52)]\n"
     ]
    }
   ],
   "source": [
    "import os \n",
    "path = os.path.join('Corpus', 'Belle_Boyd_in_Camp_and_Prison_Vol2.txt')\n",
    "text = open(path, encoding = 'utf-8')\n",
    "\n",
    "full_text = text.read()\n",
    "\n",
    "words = word_tokenize(full_text.lower())\n",
    "list7 = []\n",
    "for w in words:\n",
    "    if w.isalnum() and w not in stopwords:\n",
    "        list7.append( w )\n",
    "\n",
    "\n",
    "freq = Counter(list7)\n",
    "\n",
    "print(freq.most_common(10))"
   ]
  },
  {
   "cell_type": "code",
   "execution_count": 14,
   "id": "14390e2b",
   "metadata": {},
   "outputs": [
    {
     "name": "stdout",
     "output_type": "stream",
     "text": [
      "[('came', 265), ('1864', 243), ('day', 213), ('went', 213), ('us', 185), ('morning', 157), ('oh', 154), ('spent', 150), ('news', 145), ('evening', 143)]\n"
     ]
    }
   ],
   "source": [
    "import os \n",
    "path = os.path.join('Corpus', 'Diary_of_Belle_Edmondson.txt')\n",
    "text = open(path, encoding = 'utf-8')\n",
    "\n",
    "full_text = text.read()\n",
    "\n",
    "words = word_tokenize(full_text.lower())\n",
    "list8 = []\n",
    "for w in words:\n",
    "    if w.isalnum() and w not in stopwords:\n",
    "        list8.append( w )\n",
    "\n",
    "\n",
    "freq = Counter(list8)\n",
    "\n",
    "print(freq.most_common(10))"
   ]
  },
  {
   "cell_type": "code",
   "execution_count": 15,
   "id": "ee11ba23",
   "metadata": {},
   "outputs": [
    {
     "name": "stdout",
     "output_type": "stream",
     "text": [
      "[('one', 40), ('would', 35), ('us', 32), ('could', 31), ('mother', 31), ('father', 24), ('go', 20), ('little', 20), ('much', 20), ('said', 19)]\n"
     ]
    }
   ],
   "source": [
    "import os \n",
    "path = os.path.join('Corpus', 'Reminiscences_of_the_Civil_War.txt')\n",
    "text = open(path, encoding = 'utf-8')\n",
    "\n",
    "full_text = text.read()\n",
    "\n",
    "words = word_tokenize(full_text.lower())\n",
    "list9 = []\n",
    "for w in words:\n",
    "    if w.isalnum() and w not in stopwords:\n",
    "        list9.append( w )\n",
    "\n",
    "\n",
    "freq = Counter(list9)\n",
    "\n",
    "print(freq.most_common(10))"
   ]
  },
  {
   "cell_type": "code",
   "execution_count": 16,
   "id": "0cb1b8f4",
   "metadata": {},
   "outputs": [
    {
     "name": "stdout",
     "output_type": "stream",
     "text": [
      "[('us', 522), ('would', 354), ('one', 330), ('could', 290), ('old', 244), ('father', 239), ('like', 220), ('little', 218), ('came', 208), ('time', 201)]\n"
     ]
    }
   ],
   "source": [
    "import os \n",
    "path = os.path.join('Corpus', 'The_War-Time_Journal_of_a_Georgia_Girl.txt')\n",
    "text = open(path, encoding = 'utf-8')\n",
    "\n",
    "full_text = text.read()\n",
    "\n",
    "words = word_tokenize(full_text.lower())\n",
    "list10 = []\n",
    "for w in words:\n",
    "    if w.isalnum() and w not in stopwords:\n",
    "        list10.append( w )\n",
    "\n",
    "\n",
    "freq = Counter(list10)\n",
    "\n",
    "print(freq.most_common(10))"
   ]
  },
  {
   "cell_type": "code",
   "execution_count": 17,
   "id": "c919d977",
   "metadata": {},
   "outputs": [
    {
     "name": "stdout",
     "output_type": "stream",
     "text": [
      "[('yankees', 97), ('one', 95), ('house', 89), ('us', 88), ('negroes', 77), ('night', 73), ('men', 67), ('would', 66), ('home', 62), ('told', 60)]\n"
     ]
    }
   ],
   "source": [
    "import os \n",
    "path = os.path.join('Corpus', 'Two_Diaries_from_Middle_St._Johns.txt')\n",
    "text = open(path, encoding = 'utf-8')\n",
    "\n",
    "full_text = text.read()\n",
    "\n",
    "words = word_tokenize(full_text.lower())\n",
    "list11 = []\n",
    "for w in words:\n",
    "    if w.isalnum() and w not in stopwords:\n",
    "        list11.append( w )\n",
    "\n",
    "\n",
    "freq = Counter(list11)\n",
    "\n",
    "print(freq.most_common(10))"
   ]
  },
  {
   "cell_type": "code",
   "execution_count": 28,
   "id": "3f8fb2af",
   "metadata": {},
   "outputs": [
    {
     "name": "stdout",
     "output_type": "stream",
     "text": [
      "[('us', 2420), ('one', 2235), ('would', 2011), ('said', 1497), ('could', 1403), ('came', 1367), ('time', 1087), ('day', 1011), ('went', 984), ('see', 983), ('little', 940), ('old', 910), ('go', 907), ('general', 885), ('men', 873), ('home', 835), ('two', 813), ('man', 788), ('know', 784), ('house', 778)]\n"
     ]
    }
   ],
   "source": [
    "most_freq_words = []\n",
    "\n",
    "most_freq_words.extend(list1)\n",
    "most_freq_words.extend(list2)\n",
    "most_freq_words.extend(list3)\n",
    "most_freq_words.extend(list4)\n",
    "most_freq_words.extend(list5)\n",
    "most_freq_words.extend(list6)\n",
    "most_freq_words.extend(list7)\n",
    "most_freq_words.extend(list8)\n",
    "most_freq_words.extend(list9)\n",
    "most_freq_words.extend(list10)\n",
    "most_freq_words.extend(list11)\n",
    "\n",
    "final_freq = Counter(most_freq_words)\n",
    "\n",
    "print(final_freq.most_common(20))"
   ]
  },
  {
   "cell_type": "markdown",
   "id": "dd3f1577",
   "metadata": {},
   "source": [
    "# Identifying themes using lexicons"
   ]
  },
  {
   "cell_type": "code",
   "execution_count": 67,
   "id": "9f461e7c",
   "metadata": {},
   "outputs": [
    {
     "name": "stdout",
     "output_type": "stream",
     "text": [
      "Lexicons have been downloaded!\n"
     ]
    }
   ],
   "source": [
    "import re\n",
    "import requests\n",
    "import os\n",
    "\n",
    "baseUrl = 'https://github.com/peterverhaar/semantic-tagging/tree/main/Lexicons'\n",
    "lexicon_files = [ 'Active.txt' 'Economics.txt' ,  'Legal.txt' , 'Military.txt' , 'Movement.txt' , 'Pain.txt' , 'Passive.txt' , 'Pleasure.txt' , 'Politics.txt' , 'Power.txt' , 'Religion.txt' , 'Space.txt' , 'Time.txt' , 'Transportation.txt' , 'Vice.txt' , 'Weather.txt' , 'workAndEmployment.txt' ]\n",
    "\n",
    "dir = 'Lexicons'\n",
    "if not os.path.isdir(dir):\n",
    "    os.mkdir(dir)\n",
    "\n",
    "\n",
    "for l in lexicon_files:\n",
    "    topic = l[ : l.rindex('.') ]\n",
    "    response = requests.get( baseUrl + l)\n",
    "    words = []\n",
    "    if response:\n",
    "        response.encoding = 'utf-8'\n",
    "        out = open( os.path.join( dir , l ) , 'w' , encoding = 'utf-8' )\n",
    "        out.write( response.text )\n",
    "        out.close()\n",
    "\n",
    "print('Lexicons have been downloaded!')"
   ]
  },
  {
   "cell_type": "code",
   "execution_count": 68,
   "id": "1151d701",
   "metadata": {},
   "outputs": [],
   "source": [
    "import os \n",
    "from os.path import join\n",
    "import re\n",
    "\n",
    "lexicons = dict()\n",
    "\n",
    "dir = 'Lexicons'\n",
    "\n",
    "for file in os.listdir(dir):\n",
    "\n",
    "    topic = file[ : file.rindex('.') ]\n",
    "    words = []\n",
    "    \n",
    "    with open( join(dir,file) , encoding = 'utf-8' ) as file_handler:   \n",
    "        for l in file_handler: \n",
    "            if re.search( r'\\w' , l ):\n",
    "                words.append(l.strip())\n",
    "\n",
    "    lexicons[topic] = words    "
   ]
  },
  {
   "cell_type": "code",
   "execution_count": 69,
   "id": "7b3fa173",
   "metadata": {},
   "outputs": [
    {
     "name": "stdout",
     "output_type": "stream",
     "text": [
      "\n",
      "Lemmatising A_Confederate_Girls_Diary.txt ...\n",
      "Performing semantic tagging for A_Confederate_Girls_Diary.txt ...\n",
      "Academic ...\n",
      "Active ...\n",
      "Economics ...\n",
      "Legal ...\n",
      "Military ...\n",
      "Movement ...\n",
      "Pain ...\n",
      "Passive ...\n",
      "Pleasure ...\n",
      "Politics ...\n",
      "Power ...\n",
      "Religion ...\n",
      "Space ...\n",
      "Time ...\n",
      "Transportation ...\n",
      "Vice ...\n",
      "Weather ...\n",
      "workAndEmployment ...\n",
      "\n",
      "Lemmatising A_Diary_from_Dixie.txt ...\n",
      "Performing semantic tagging for A_Diary_from_Dixie.txt ...\n",
      "Academic ...\n",
      "Active ...\n",
      "Economics ...\n",
      "Legal ...\n",
      "Military ...\n",
      "Movement ...\n",
      "Pain ...\n",
      "Passive ...\n",
      "Pleasure ...\n",
      "Politics ...\n",
      "Power ...\n",
      "Religion ...\n",
      "Space ...\n",
      "Time ...\n",
      "Transportation ...\n",
      "Vice ...\n",
      "Weather ...\n",
      "workAndEmployment ...\n",
      "\n",
      "Lemmatising A_Virginia_Girl_in_the_Civil_War.txt ...\n",
      "Performing semantic tagging for A_Virginia_Girl_in_the_Civil_War.txt ...\n",
      "Academic ...\n",
      "Active ...\n",
      "Economics ...\n",
      "Legal ...\n",
      "Military ...\n",
      "Movement ...\n",
      "Pain ...\n",
      "Passive ...\n",
      "Pleasure ...\n",
      "Politics ...\n",
      "Power ...\n",
      "Religion ...\n",
      "Space ...\n",
      "Time ...\n",
      "Transportation ...\n",
      "Vice ...\n",
      "Weather ...\n",
      "workAndEmployment ...\n",
      "\n",
      "Lemmatising A_Womans_Wartime_Journal.txt ...\n",
      "Performing semantic tagging for A_Womans_Wartime_Journal.txt ...\n",
      "Academic ...\n",
      "Active ...\n",
      "Economics ...\n",
      "Legal ...\n",
      "Military ...\n",
      "Movement ...\n",
      "Pain ...\n",
      "Passive ...\n",
      "Pleasure ...\n",
      "Politics ...\n",
      "Power ...\n",
      "Religion ...\n",
      "Space ...\n",
      "Time ...\n",
      "Transportation ...\n",
      "Vice ...\n",
      "Weather ...\n",
      "workAndEmployment ...\n",
      "\n",
      "Lemmatising A_Womans_War_Record.txt ...\n",
      "Performing semantic tagging for A_Womans_War_Record.txt ...\n",
      "Academic ...\n",
      "Active ...\n",
      "Economics ...\n",
      "Legal ...\n",
      "Military ...\n",
      "Movement ...\n",
      "Pain ...\n",
      "Passive ...\n",
      "Pleasure ...\n",
      "Politics ...\n",
      "Power ...\n",
      "Religion ...\n",
      "Space ...\n",
      "Time ...\n",
      "Transportation ...\n",
      "Vice ...\n",
      "Weather ...\n",
      "workAndEmployment ...\n",
      "\n",
      "Lemmatising Belle_Boyd_in_Camp_and_Prison_Vol1.txt ...\n",
      "Performing semantic tagging for Belle_Boyd_in_Camp_and_Prison_Vol1.txt ...\n",
      "Academic ...\n",
      "Active ...\n",
      "Economics ...\n",
      "Legal ...\n",
      "Military ...\n",
      "Movement ...\n",
      "Pain ...\n",
      "Passive ...\n",
      "Pleasure ...\n",
      "Politics ...\n",
      "Power ...\n",
      "Religion ...\n",
      "Space ...\n",
      "Time ...\n",
      "Transportation ...\n",
      "Vice ...\n",
      "Weather ...\n",
      "workAndEmployment ...\n",
      "\n",
      "Lemmatising Belle_Boyd_in_Camp_and_Prison_Vol2.txt ...\n",
      "Performing semantic tagging for Belle_Boyd_in_Camp_and_Prison_Vol2.txt ...\n",
      "Academic ...\n",
      "Active ...\n",
      "Economics ...\n",
      "Legal ...\n",
      "Military ...\n",
      "Movement ...\n",
      "Pain ...\n",
      "Passive ...\n",
      "Pleasure ...\n",
      "Politics ...\n",
      "Power ...\n",
      "Religion ...\n",
      "Space ...\n",
      "Time ...\n",
      "Transportation ...\n",
      "Vice ...\n",
      "Weather ...\n",
      "workAndEmployment ...\n",
      "\n",
      "Lemmatising Diary_of_Belle_Edmondson.txt ...\n",
      "Performing semantic tagging for Diary_of_Belle_Edmondson.txt ...\n",
      "Academic ...\n",
      "Active ...\n",
      "Economics ...\n",
      "Legal ...\n",
      "Military ...\n",
      "Movement ...\n",
      "Pain ...\n",
      "Passive ...\n",
      "Pleasure ...\n",
      "Politics ...\n",
      "Power ...\n",
      "Religion ...\n",
      "Space ...\n",
      "Time ...\n",
      "Transportation ...\n",
      "Vice ...\n",
      "Weather ...\n",
      "workAndEmployment ...\n",
      "\n",
      "Lemmatising Reminiscences_of_the_Civil_War.txt ...\n",
      "Performing semantic tagging for Reminiscences_of_the_Civil_War.txt ...\n",
      "Academic ...\n",
      "Active ...\n",
      "Economics ...\n",
      "Legal ...\n",
      "Military ...\n",
      "Movement ...\n",
      "Pain ...\n",
      "Passive ...\n",
      "Pleasure ...\n",
      "Politics ...\n",
      "Power ...\n",
      "Religion ...\n",
      "Space ...\n",
      "Time ...\n",
      "Transportation ...\n",
      "Vice ...\n",
      "Weather ...\n",
      "workAndEmployment ...\n",
      "\n",
      "Lemmatising The_War-Time_Journal_of_a_Georgia_Girl.txt ...\n",
      "Performing semantic tagging for The_War-Time_Journal_of_a_Georgia_Girl.txt ...\n",
      "Academic ...\n",
      "Active ...\n",
      "Economics ...\n",
      "Legal ...\n",
      "Military ...\n",
      "Movement ...\n",
      "Pain ...\n",
      "Passive ...\n",
      "Pleasure ...\n",
      "Politics ...\n",
      "Power ...\n",
      "Religion ...\n",
      "Space ...\n",
      "Time ...\n",
      "Transportation ...\n",
      "Vice ...\n",
      "Weather ...\n",
      "workAndEmployment ...\n",
      "\n",
      "Lemmatising Two_Diaries_from_Middle_St._Johns.txt ...\n",
      "Performing semantic tagging for Two_Diaries_from_Middle_St._Johns.txt ...\n",
      "Academic ...\n",
      "Active ...\n",
      "Economics ...\n",
      "Legal ...\n",
      "Military ...\n",
      "Movement ...\n",
      "Pain ...\n",
      "Passive ...\n",
      "Pleasure ...\n",
      "Politics ...\n",
      "Power ...\n",
      "Religion ...\n",
      "Space ...\n",
      "Time ...\n",
      "Transportation ...\n",
      "Vice ...\n",
      "Weather ...\n",
      "workAndEmployment ...\n",
      "Done!\n"
     ]
    }
   ],
   "source": [
    "import os\n",
    "from os.path import join\n",
    "from tdmh import *\n",
    "from nltk.stem import WordNetLemmatizer\n",
    "\n",
    "dir = 'Corpus'\n",
    "\n",
    "\n",
    "\n",
    "csv = open( 'lexicon.csv' , 'w' , encoding = 'utf-8' )\n",
    "\n",
    "## print header\n",
    "csv.write( 'title' )\n",
    "for l in lexicons:\n",
    "    csv.write( f',{l.lower().strip() }' )\n",
    "csv.write('\\n')\n",
    "\n",
    "dir = 'Corpus'\n",
    "for file in os.listdir( dir ):\n",
    "    if re.search( r'\\.txt$' , file ):\n",
    "        csv.write( remove_extension( file ) )\n",
    "        path = join( dir, file )\n",
    "        \n",
    "        print( '\\nLemmatising {} ...'.format( file ) )\n",
    "        with open( path , encoding = 'utf-8' ) as fh:\n",
    "            full_text = fh.read()\n",
    "        lemmatised = lemmatise(full_text)\n",
    "        \n",
    "        print( 'Performing semantic tagging for {} ...'.format( file ) )\n",
    "        \n",
    "        words = word_tokenize(lemmatised)\n",
    "        words = remove_punctuation(words)\n",
    "        freq = dict()\n",
    "        for w in words:\n",
    "            freq[w] = freq.get(w,0)+1\n",
    "        tokens = len(lemmatised)\n",
    "        \n",
    "        for l in lexicons:\n",
    "            print(f'{l} ...')    \n",
    "            \n",
    "            countOccurrences = 0\n",
    "            for word in l:\n",
    "                countOccurrences += freq.get(word,0)\n",
    "            \n",
    "            csv.write( ',{}'.format( countOccurrences / tokens ) )\n",
    "        csv.write('\\n')\n",
    "        \n",
    "csv.close()\n",
    "\n",
    "print(\"Done!\")"
   ]
  },
  {
   "cell_type": "code",
   "execution_count": 71,
   "id": "5190e468",
   "metadata": {},
   "outputs": [
    {
     "data": {
      "image/png": "[encoded data removed]",
      "text/plain": [
       "<Figure size 504x432 with 1 Axes>"
      ]
     },
     "metadata": {
      "needs_background": "light"
     },
     "output_type": "display_data"
    }
   ],
   "source": [
    "%matplotlib inline\n",
    "\n",
    "import matplotlib.pyplot as plt\n",
    "import pandas as pd\n",
    "\n",
    "df = pd.read_csv('lexicon.csv')\n",
    "\n",
    "fig = plt.figure( figsize=( 7 ,6 ) )\n",
    "ax = plt.axes()\n",
    "\n",
    "x = 'title'\n",
    "y = 'military'\n",
    "\n",
    "\n",
    "bar_width = 0.45\n",
    "opacity = 0.8\n",
    "\n",
    "ax.bar( df[x] , df[y] , width = bar_width, alpha = opacity , color = '#23a145')\n",
    "\n",
    "plt.xticks(rotation= 75)\n",
    "\n",
    "ax.set_xlabel('Categories' , fontsize= 12)\n",
    "ax.set_ylabel('Mean values' , fontsize = 12 )\n",
    "ax.set_title( y.title() , fontsize=20 )\n",
    "\n",
    "\n",
    "plt.show()"
   ]
  },
  {
   "cell_type": "code",
   "execution_count": null,
   "id": "398dd439",
   "metadata": {},
   "outputs": [],
   "source": [
    "#define my own lexicon pertaining to social life"
   ]
  },
  {
   "cell_type": "code",
   "execution_count": 75,
   "id": "d3076a4f",
   "metadata": {},
   "outputs": [
    {
     "data": {
      "image/png": "[encoded data removed]",
      "text/plain": [
       "<Figure size 504x432 with 1 Axes>"
      ]
     },
     "metadata": {
      "needs_background": "light"
     },
     "output_type": "display_data"
    }
   ],
   "source": [
    "%matplotlib inline\n",
    "\n",
    "import matplotlib.pyplot as plt\n",
    "import pandas as pd\n",
    "\n",
    "df = pd.read_csv('lexicon.csv')\n",
    "\n",
    "fig = plt.figure( figsize=( 7 ,6 ) )\n",
    "ax = plt.axes()\n",
    "\n",
    "x = 'title'\n",
    "y = 'active'\n",
    "\n",
    "\n",
    "bar_width = 0.45\n",
    "opacity = 0.8\n",
    "\n",
    "ax.bar( df[x] , df[y] , width = bar_width, alpha = opacity , color = '#23a145')\n",
    "\n",
    "plt.xticks(rotation= 75)\n",
    "\n",
    "ax.set_xlabel('Categories' , fontsize= 12)\n",
    "ax.set_ylabel('Mean values' , fontsize = 12 )\n",
    "ax.set_title( y.title() , fontsize=20 )\n",
    "\n",
    "\n",
    "plt.show()"
   ]
  },
  {
   "cell_type": "code",
   "execution_count": 73,
   "id": "3d82ed1a",
   "metadata": {},
   "outputs": [
    {
     "data": {
      "image/png": "[encoded data removed]",
      "text/plain": [
       "<Figure size 504x432 with 1 Axes>"
      ]
     },
     "metadata": {
      "needs_background": "light"
     },
     "output_type": "display_data"
    }
   ],
   "source": [
    "%matplotlib inline\n",
    "\n",
    "import matplotlib.pyplot as plt\n",
    "import pandas as pd\n",
    "\n",
    "df = pd.read_csv('lexicon.csv')\n",
    "\n",
    "fig = plt.figure( figsize=( 7 ,6 ) )\n",
    "ax = plt.axes()\n",
    "\n",
    "x = 'title'\n",
    "y = 'passive'\n",
    "\n",
    "\n",
    "bar_width = 0.45\n",
    "opacity = 0.8\n",
    "\n",
    "ax.bar( df[x] , df[y] , width = bar_width, alpha = opacity , color = '#23a145')\n",
    "\n",
    "plt.xticks(rotation= 75)\n",
    "\n",
    "ax.set_xlabel('Categories' , fontsize= 12)\n",
    "ax.set_ylabel('Mean values' , fontsize = 12 )\n",
    "ax.set_title( y.title() , fontsize=20 )\n",
    "\n",
    "\n",
    "plt.show()"
   ]
  },
  {
   "cell_type": "code",
   "execution_count": 51,
   "id": "db64b2c2",
   "metadata": {},
   "outputs": [
    {
     "data": {
      "image/png": "[encoded data removed]",
      "text/plain": [
       "<Figure size 504x432 with 1 Axes>"
      ]
     },
     "metadata": {
      "needs_background": "light"
     },
     "output_type": "display_data"
    }
   ],
   "source": [
    "%matplotlib inline\n",
    "\n",
    "import matplotlib.pyplot as plt\n",
    "import pandas as pd\n",
    "\n",
    "df = pd.read_csv('lexicon.csv')\n",
    "\n",
    "fig = plt.figure( figsize=( 7 ,6 ) )\n",
    "ax = plt.axes()\n",
    "\n",
    "x = 'title'\n",
    "y = 'pain'\n",
    "\n",
    "\n",
    "bar_width = 0.45\n",
    "opacity = 0.8\n",
    "\n",
    "ax.bar( df[x] , df[y] , width = bar_width, alpha = opacity , color = '#23a145')\n",
    "\n",
    "plt.xticks(rotation= 75)\n",
    "\n",
    "ax.set_xlabel('Categories' , fontsize= 12)\n",
    "ax.set_ylabel('Mean values' , fontsize = 12 )\n",
    "ax.set_title( y.title() , fontsize=20 )\n",
    "\n",
    "\n",
    "plt.show()"
   ]
  },
  {
   "cell_type": "code",
   "execution_count": 74,
   "id": "0e9633c7",
   "metadata": {},
   "outputs": [
    {
     "data": {
      "image/png": "[encoded data removed]",
      "text/plain": [
       "<Figure size 504x432 with 1 Axes>"
      ]
     },
     "metadata": {
      "needs_background": "light"
     },
     "output_type": "display_data"
    }
   ],
   "source": [
    "%matplotlib inline\n",
    "\n",
    "import matplotlib.pyplot as plt\n",
    "import pandas as pd\n",
    "\n",
    "df = pd.read_csv('lexicon.csv')\n",
    "\n",
    "fig = plt.figure( figsize=( 7 ,6 ) )\n",
    "ax = plt.axes()\n",
    "\n",
    "x = 'title'\n",
    "y = 'pleasure'\n",
    "\n",
    "\n",
    "bar_width = 0.45\n",
    "opacity = 0.8\n",
    "\n",
    "ax.bar( df[x] , df[y] , width = bar_width, alpha = opacity , color = '#23a145')\n",
    "\n",
    "plt.xticks(rotation= 75)\n",
    "\n",
    "ax.set_xlabel('Categories' , fontsize= 12)\n",
    "ax.set_ylabel('Mean values' , fontsize = 12 )\n",
    "ax.set_title( y.title() , fontsize=20 )\n",
    "\n",
    "\n",
    "plt.show()"
   ]
  },
  {
   "cell_type": "markdown",
   "id": "118c5eae",
   "metadata": {},
   "source": [
    "# Assessing the context of the most frequent words"
   ]
  },
  {
   "cell_type": "code",
   "execution_count": 15,
   "id": "e248fb57",
   "metadata": {},
   "outputs": [],
   "source": [
    "import math\n",
    "import re\n",
    "from tdmh import *\n",
    "\n",
    "\n",
    "def concordance_word( text, regex , width = 10 ):\n",
    "\n",
    "    concordance = []\n",
    "    distance = math.floor( width /2 )\n",
    "\n",
    "    segment_length = 0\n",
    "\n",
    "    words = word_tokenize( text )\n",
    "    words = remove_punctuation( words )\n",
    "    i = 0\n",
    "    for w in words:\n",
    "        if re.search( regex , w , re.IGNORECASE ):\n",
    "            match = ''\n",
    "            for x in range( i - distance , ( i + distance ) + 1 ):\n",
    "                if x >= 0 and x < len(words):\n",
    "                    if len(words[x]) >= 0:\n",
    "                        match += words[x] + ' '\n",
    "            concordance.append( match )\n",
    "\n",
    "        i += 1\n",
    "\n",
    "    return concordance"
   ]
  },
  {
   "cell_type": "code",
   "execution_count": 29,
   "id": "23b9602c",
   "metadata": {},
   "outputs": [
    {
     "name": "stdout",
     "output_type": "stream",
     "text": [
      "at once said that she and her sister Miriam and several friends had been witnesses from the \n",
      "\n",
      "with her five children and two unmarried daughters Miriam and Sarah Lilly husband Charles La Noue came \n",
      "\n",
      "time in my life Indeed it is dull Miriam went to Linewood with Lydia yesterday and I \n",
      "\n",
      "yesterday and I miss them beyond all expression Miriam is so funny She says she can not \n",
      "\n",
      "it is absurd to fancy myself alive without Miriam She would rather not visit with me and \n",
      "\n"
     ]
    }
   ],
   "source": [
    "import os \n",
    "path = os.path.join('Corpus', 'A_Confederate_Girls_Diary.txt')\n",
    "\n",
    "with open(path , encoding = 'utf-8') as file:\n",
    "    full_text = file.read()\n",
    "    \n",
    "fragments = concordance_word( full_text , r'miriam' , 16)\n",
    "\n",
    "number_of_results = 5\n",
    "\n",
    "for f in fragments[:number_of_results]:\n",
    "    print( f'{f}\\n')"
   ]
  },
  {
   "cell_type": "code",
   "execution_count": 30,
   "id": "d338403d",
   "metadata": {},
   "outputs": [
    {
     "name": "stdout",
     "output_type": "stream",
     "text": [
      "led the wives of Cabinet officers and commanding generals to gather in Washington hotels and private in \n",
      "\n",
      "the heroes of the Jefferson Davis Alexander Stephens General Robert Lee General Stonewall Jackson General Joseph Johnston \n",
      "\n",
      "the Jefferson Davis Alexander Stephens General Robert Lee General Stonewall Jackson General Joseph Johnston General Pierre Beauregard \n",
      "\n",
      "Alexander Stephens General Robert Lee General Stonewall Jackson General Joseph Johnston General Pierre Beauregard General Wade Hampton \n",
      "\n",
      "Robert Lee General Stonewall Jackson General Joseph Johnston General Pierre Beauregard General Wade Hampton General Joseph Kershaw \n",
      "\n"
     ]
    }
   ],
   "source": [
    "import os \n",
    "path = os.path.join('Corpus', 'A_Diary_from_Dixie.txt')\n",
    "\n",
    "with open(path , encoding = 'utf-8') as file:\n",
    "    full_text = file.read()\n",
    "    \n",
    "fragments = concordance_word( full_text , r'general' , 16)\n",
    "\n",
    "number_of_results = 5\n",
    "\n",
    "for f in fragments[:number_of_results]:\n",
    "    print( f'{f}\\n')"
   ]
  },
  {
   "cell_type": "code",
   "execution_count": 31,
   "id": "b71ccf96",
   "metadata": {},
   "outputs": [
    {
     "name": "stdout",
     "output_type": "stream",
     "text": [
      "cosmopolitan society Our lives were made up of dance and song and moonlit sails There were the \n",
      "\n",
      "and Confederate armies sat around our board and danced in our parlors others holding high places in \n",
      "\n",
      "salute Milicent before they permitted themselves to talk dance and sing Upon leaving the same order was \n",
      "\n",
      "who played on the piano for people to dance On formal occasions we had military bands but \n",
      "\n",
      "occasions we had military bands but for the dance my playing did well enough When the Prussians \n",
      "\n"
     ]
    }
   ],
   "source": [
    "import os \n",
    "path = os.path.join('Corpus', 'A_Virginia_Girl_in_the_Civil_War.txt')\n",
    "\n",
    "with open(path , encoding = 'utf-8') as file:\n",
    "    full_text = file.read()\n",
    "    \n",
    "fragments = concordance_word( full_text , r'dan' , 16)\n",
    "\n",
    "number_of_results = 5\n",
    "\n",
    "for f in fragments[:number_of_results]:\n",
    "    print( f'{f}\\n')"
   ]
  },
  {
   "cell_type": "code",
   "execution_count": 32,
   "id": "5e4c21c7",
   "metadata": {},
   "outputs": [
    {
     "name": "stdout",
     "output_type": "stream",
     "text": [
      "Zouaves The army being in winter quarters a general disposition prevailed among officers and men to make \n",
      "\n",
      "discipline or decorum was the urbane and genial General Banks Among the ladies who spent the winter \n",
      "\n",
      "me as her interpreter Upon one occasion in General Banks presence she was fluently expressing to me \n",
      "\n",
      "his personal appearance when to her horror the General laughing heartily thanked her in a very excellent \n",
      "\n",
      "first time and to our discomfiture that the General was besides his other accomplishments an excellent German \n",
      "\n"
     ]
    }
   ],
   "source": [
    "import os \n",
    "path = os.path.join('Corpus', 'A_Womans_War_Record.txt')\n",
    "\n",
    "with open(path , encoding = 'utf-8') as file:\n",
    "    full_text = file.read()\n",
    "    \n",
    "fragments = concordance_word( full_text , r'general' , 16)\n",
    "\n",
    "number_of_results = 5\n",
    "\n",
    "for f in fragments[:number_of_results]:\n",
    "    print( f'{f}\\n')"
   ]
  },
  {
   "cell_type": "code",
   "execution_count": 33,
   "id": "60d7a25f",
   "metadata": {},
   "outputs": [
    {
     "name": "stdout",
     "output_type": "stream",
     "text": [
      "speed Judge Floyd stopped saying Mrs Burge the Yankees are coming They have got my family and \n",
      "\n",
      "boy came from Covington with word that the Yankees had left Wheeler men were in Covington and \n",
      "\n",
      "No church Our preacher horse stolen by the Yankees This raid is headed by Guerrard and is \n",
      "\n",
      "Ben Glass rode up with the cry The Yankees are coming Burge hide your mules How we \n",
      "\n",
      "we hurried the Major to his room The Yankees did not come that day but it was \n",
      "\n"
     ]
    }
   ],
   "source": [
    "import os \n",
    "path = os.path.join('Corpus', 'A_Womans_Wartime_Journal.txt')\n",
    "\n",
    "with open(path , encoding = 'utf-8') as file:\n",
    "    full_text = file.read()\n",
    "    \n",
    "fragments = concordance_word( full_text , r'yankees' , 16)\n",
    "\n",
    "number_of_results = 5\n",
    "\n",
    "for f in fragments[:number_of_results]:\n",
    "    print( f'{f}\\n')"
   ]
  },
  {
   "cell_type": "code",
   "execution_count": 34,
   "id": "d3f0239b",
   "metadata": {},
   "outputs": [
    {
     "name": "stdout",
     "output_type": "stream",
     "text": [
      "Her great beauty elegant manners and personal attractions generally in conjunction with her romantic history before her \n",
      "\n",
      "Washington of whom she knows more than is generally known and who will be shown up in \n",
      "\n",
      "to whom has been attributed the defeat of General Banks in the Shenandoah Valley by Stonewall Jackson \n",
      "\n",
      "to woman and dignity to man At the general exchange of prisoners which took place in September \n",
      "\n",
      "faction which grasps exclusive power in contempt of general rights Slavery like all other imperfect forms of \n",
      "\n"
     ]
    }
   ],
   "source": [
    "import os \n",
    "path = os.path.join('Corpus', 'Belle_Boyd_in_Camp_and_Prison_Vol1.txt')\n",
    "\n",
    "with open(path , encoding = 'utf-8') as file:\n",
    "    full_text = file.read()\n",
    "    \n",
    "fragments = concordance_word( full_text , r'general' , 16)\n",
    "\n",
    "number_of_results = 5\n",
    "\n",
    "for f in fragments[:number_of_results]:\n",
    "    print( f'{f}\\n')"
   ]
  },
  {
   "cell_type": "code",
   "execution_count": 24,
   "id": "186472f5",
   "metadata": {},
   "outputs": [
    {
     "name": "stdout",
     "output_type": "stream",
     "text": [
      "was obliged to give my parole that I would not leave the house until permitted to do \n",
      "\n",
      "this to General Butler in the morning I would do so now but it is after office \n",
      "\n",
      "remarked to those who surrounded him that he would take a leading character in and the Beast \n",
      "\n",
      "steamer which judging from the distance between us would in less than ten minutes be alongside Ten \n",
      "\n",
      "that as soon as I was dressed he would call in person with the wife of the \n",
      "\n"
     ]
    }
   ],
   "source": [
    "import os \n",
    "path = os.path.join('Corpus', 'Belle_Boyd_in_Camp_and_Prison_Vol2.txt')\n",
    "\n",
    "with open(path , encoding = 'utf-8') as file:\n",
    "    full_text = file.read()\n",
    "    \n",
    "fragments = concordance_word( full_text , r.'captain' , 16)\n",
    "\n",
    "number_of_results = 5\n",
    "\n",
    "for f in fragments[:number_of_results]:\n",
    "    print( f'{f}\\n')"
   ]
  },
  {
   "cell_type": "code",
   "execution_count": 25,
   "id": "be9cf3df",
   "metadata": {},
   "outputs": [
    {
     "name": "stdout",
     "output_type": "stream",
     "text": [
      "always have room for them if a hundred would come All we can do is to sit \n",
      "\n",
      "run for him God bless the Rebels I would risk my life a dozen times a day \n",
      "\n",
      "I have never given up hope but Bettie would come right side up and I think she \n",
      "\n",
      "with him and we are better satisfied I would not have him stay any longer for any \n",
      "\n",
      "same time fireing Of course no Southern Soldier would ever surrender to a Negro he fired five \n",
      "\n"
     ]
    }
   ],
   "source": [
    "import os \n",
    "path = os.path.join('Corpus', 'Diary_of_Belle_Edmondson.txt')\n",
    "\n",
    "with open(path , encoding = 'utf-8') as file:\n",
    "    full_text = file.read()\n",
    "    \n",
    "fragments = concordance_word( full_text , r'1864' , 16)\n",
    "\n",
    "number_of_results = 5\n",
    "\n",
    "for f in fragments[:number_of_results]:\n",
    "    print( f'{f}\\n')"
   ]
  },
  {
   "cell_type": "code",
   "execution_count": 35,
   "id": "7864ef82",
   "metadata": {},
   "outputs": [
    {
     "name": "stdout",
     "output_type": "stream",
     "text": [
      "to be married early in the autumn and mother wanted to go North to see her father \n",
      "\n",
      "during the five miles ride The next morning mother stood at the back gate and the man \n",
      "\n",
      "North to our summer home in Rhode Island Mother then had to face a very serious situation \n",
      "\n",
      "and a relative promised to protect them Though mother was brave it was a hard trial to \n",
      "\n",
      "something to say about that and exclaimed vehemently Mother if you do not take me with you \n",
      "\n"
     ]
    }
   ],
   "source": [
    "import os \n",
    "path = os.path.join('Corpus', 'Reminiscences_of_the_Civil_War.txt')\n",
    "\n",
    "with open(path , encoding = 'utf-8') as file:\n",
    "    full_text = file.read()\n",
    "    \n",
    "fragments = concordance_word( full_text , r'mother' , 16)\n",
    "\n",
    "number_of_results = 5\n",
    "\n",
    "for f in fragments[:number_of_results]:\n",
    "    print( f'{f}\\n')"
   ]
  },
  {
   "cell_type": "code",
   "execution_count": 36,
   "id": "9b304614",
   "metadata": {},
   "outputs": [
    {
     "name": "stdout",
     "output_type": "stream",
     "text": [
      "the public The uncompromising attitude of the writer father against secession removed him of course from all \n",
      "\n",
      "to honor and revere the civilization of their fathers which we believe has perished not because it \n",
      "\n",
      "and they had more power than our Protestant forefathers In like manner the spirit of chattel slavery \n",
      "\n",
      "forever glorious He saw the civil fabric his fathers had reared go down in a mighty cataclysm \n",
      "\n",
      "to make to the memory of my dear father to whose unflinching devotion to the Union these \n",
      "\n"
     ]
    }
   ],
   "source": [
    "import os \n",
    "path = os.path.join('Corpus', 'The_War-Time_Journal_of_a_Georgia_Girl.txt')\n",
    "\n",
    "with open(path , encoding = 'utf-8') as file:\n",
    "    full_text = file.read()\n",
    "    \n",
    "fragments = concordance_word( full_text , r'father' , 16)\n",
    "\n",
    "number_of_results = 5\n",
    "\n",
    "for f in fragments[:number_of_results]:\n",
    "    print( f'{f}\\n')"
   ]
  },
  {
   "cell_type": "code",
   "execution_count": 37,
   "id": "760fb64a",
   "metadata": {},
   "outputs": [
    {
     "name": "stdout",
     "output_type": "stream",
     "text": [
      "terror on the road imagining we heard the Yankees guns across the swamp We reached Northampton about \n",
      "\n",
      "window my head being full of negroes and Yankees roused up Mother with the cry the enemy \n",
      "\n",
      "We have been so intent watching for the Yankees that we mistook a party of our men \n",
      "\n",
      "artillerymen who had been sent to meet the Yankees had returned and everything was hastening to cross \n",
      "\n",
      "says a negro had come from Gippy the Yankees had shot all of White poultry took her \n",
      "\n"
     ]
    }
   ],
   "source": [
    "import os \n",
    "path = os.path.join('Corpus', 'Two_Diaries_from_Middle_St._Johns.txt')\n",
    "\n",
    "with open(path , encoding = 'utf-8') as file:\n",
    "    full_text = file.read()\n",
    "    \n",
    "fragments = concordance_word( full_text , r'yankees' , 16)\n",
    "\n",
    "number_of_results = 5\n",
    "\n",
    "for f in fragments[:number_of_results]:\n",
    "    print( f'{f}\\n')"
   ]
  },
  {
   "cell_type": "markdown",
   "id": "b0dba54e",
   "metadata": {},
   "source": [
    "# Conducting a sentiment analysis"
   ]
  },
  {
   "cell_type": "code",
   "execution_count": 38,
   "id": "368db256",
   "metadata": {},
   "outputs": [
    {
     "name": "stdout",
     "output_type": "stream",
     "text": [
      "Requirement already satisfied: vaderSentiment in c:\\users\\cshed\\anaconda3\\lib\\site-packages (3.3.2)\n",
      "Requirement already satisfied: requests in c:\\users\\cshed\\anaconda3\\lib\\site-packages (from vaderSentiment) (2.26.0)\n",
      "Requirement already satisfied: charset-normalizer~=2.0.0 in c:\\users\\cshed\\anaconda3\\lib\\site-packages (from requests->vaderSentiment) (2.0.4)\n",
      "Requirement already satisfied: urllib3<1.27,>=1.21.1 in c:\\users\\cshed\\anaconda3\\lib\\site-packages (from requests->vaderSentiment) (1.26.7)\n",
      "Requirement already satisfied: certifi>=2017.4.17 in c:\\users\\cshed\\anaconda3\\lib\\site-packages (from requests->vaderSentiment) (2021.10.8)\n",
      "Requirement already satisfied: idna<4,>=2.5 in c:\\users\\cshed\\anaconda3\\lib\\site-packages (from requests->vaderSentiment) (3.2)\n"
     ]
    }
   ],
   "source": [
    "import sys\n",
    "!pip install vaderSentiment"
   ]
  },
  {
   "cell_type": "code",
   "execution_count": 39,
   "id": "0d91f2f1",
   "metadata": {},
   "outputs": [],
   "source": [
    "from vaderSentiment.vaderSentiment import SentimentIntensityAnalyzer \n",
    "ana = SentimentIntensityAnalyzer()"
   ]
  },
  {
   "cell_type": "code",
   "execution_count": 42,
   "id": "64b8e1c0",
   "metadata": {},
   "outputs": [
    {
     "name": "stdout",
     "output_type": "stream",
     "text": [
      "Average sentiment score for \"A Confederate Girl's Diary\":\n",
      "0.084\n",
      "Average sentiment score for \"A Diary from Dixie\":\n",
      "0.087\n",
      "Average sentiment score for \"A Virginia Girl in the Civil War\":\n",
      "0.08\n",
      "Average sentiment score for \"A Woman's War Record\":\n",
      "0.102\n",
      "Average sentiment score for \"A Woman's Wartime Journal\":\n",
      "0.068\n",
      "Average sentiment score for \"Belle Boyd in Camp and Prison (Volume 1)\":\n",
      "0.092\n",
      "Average sentiment score for \"Belle Boyd in Camp and Prison (Volume 2)\":\n",
      "0.079\n",
      "Average sentiment score for \"Diary of Belle Edmondson\":\n",
      "0.106\n",
      "Average sentiment score for \"Reminiscences of the Civil War\":\n",
      "0.096\n",
      "Average sentiment score for \"The War-Time Journal of a Georgia Girl\":\n",
      "0.086\n",
      "Average sentiment score for \"Two Diaries from Middle St. John's\":\n",
      "0.052\n"
     ]
    }
   ],
   "source": [
    "from nltk import sent_tokenize\n",
    "from os.path import join\n",
    "\n",
    "def average_score(file):\n",
    "    all_scores = []\n",
    "    file = open( file , encoding = 'utf-8' )\n",
    "    full_text = file.read()\n",
    "    sentences = sent_tokenize( full_text )\n",
    "    for s in sentences:\n",
    "        scores = ana.polarity_scores(s)\n",
    "        all_scores.append( scores[\"pos\"] )\n",
    "    return sum(all_scores) / len(all_scores)\n",
    "        \n",
    "\n",
    "path = join('Corpus' , 'A_Confederate_Girls_Diary.txt' )\n",
    "print( '''Average sentiment score for \"A Confederate Girl's Diary\":''' )\n",
    "print( f'{ round( average_score(path),3) }' )\n",
    "\n",
    "path = join('Corpus' , 'A_Diary_from_Dixie.txt' )\n",
    "print( 'Average sentiment score for \"A Diary from Dixie\":' )\n",
    "print( f'{ round( average_score(path),3) }' )\n",
    "\n",
    "path = join('Corpus' , 'A_Virginia_Girl_in_the_Civil_War.txt' )\n",
    "print( 'Average sentiment score for \"A Virginia Girl in the Civil War\":' )\n",
    "print( f'{ round( average_score(path),3) }' )\n",
    "\n",
    "path = join('Corpus' , 'A_Womans_War_Record.txt' )\n",
    "print( '''Average sentiment score for \"A Woman's War Record\":''' )\n",
    "print( f'{ round( average_score(path),3) }' )\n",
    "\n",
    "path = join('Corpus' , 'A_Womans_Wartime_Journal.txt' )\n",
    "print( '''Average sentiment score for \"A Woman's Wartime Journal\":''' )\n",
    "print( f'{ round( average_score(path),3) }' )\n",
    "\n",
    "path = join('Corpus' , 'Belle_Boyd_in_Camp_and_Prison_Vol1.txt' )\n",
    "print( 'Average sentiment score for \"Belle Boyd in Camp and Prison (Volume 1)\":' )\n",
    "print( f'{ round( average_score(path),3) }' )\n",
    "\n",
    "path = join('Corpus' , 'Belle_Boyd_in_Camp_and_Prison_Vol2.txt' )\n",
    "print( 'Average sentiment score for \"Belle Boyd in Camp and Prison (Volume 2)\":' )\n",
    "print( f'{ round( average_score(path),3) }' )\n",
    "\n",
    "path = join('Corpus' , 'Diary_of_Belle_Edmondson.txt' )\n",
    "print( 'Average sentiment score for \"Diary of Belle Edmondson\":' )\n",
    "print( f'{ round( average_score(path),3) }' )\n",
    "\n",
    "path = join('Corpus' , 'Reminiscences_of_the_Civil_War.txt' )\n",
    "print( 'Average sentiment score for \"Reminiscences of the Civil War\":' )\n",
    "print( f'{ round( average_score(path),3) }' )\n",
    "\n",
    "path = join('Corpus' , 'The_War-Time_Journal_of_a_Georgia_Girl.txt' )\n",
    "print( 'Average sentiment score for \"The War-Time Journal of a Georgia Girl\":' )\n",
    "print( f'{ round( average_score(path),3) }' )\n",
    "\n",
    "path = join('Corpus' , 'Two_Diaries_from_Middle_St._Johns.txt' )\n",
    "print( '''Average sentiment score for \"Two Diaries from Middle St. John's\":''' )\n",
    "print( f'{ round( average_score(path),3) }' )"
   ]
  }
 ],
 "metadata": {
  "kernelspec": {
   "display_name": "Python 3 (ipykernel)",
   "language": "python",
   "name": "python3"
  },
  "language_info": {
   "codemirror_mode": {
    "name": "ipython",
    "version": 3
   },
   "file_extension": ".py",
   "mimetype": "text/x-python",
   "name": "python",
   "nbconvert_exporter": "python",
   "pygments_lexer": "ipython3",
   "version": "3.9.7"
  }
 },
 "nbformat": 4,
 "nbformat_minor": 5
}
