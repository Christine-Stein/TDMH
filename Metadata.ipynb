{
 "cells": [
  {
   "cell_type": "code",
   "execution_count": 1,
   "id": "48d1dcd2",
   "metadata": {},
   "outputs": [],
   "source": [
    "import os\n",
    "import re\n",
    "import pandas as pd"
   ]
  },
  {
   "cell_type": "markdown",
   "id": "72bc1752",
   "metadata": {},
   "source": [
    "# Metadata\n",
    "\n",
    "In research projects based on Text and Data Mining, it is common to examine differences and similarities between separate groups of texts. To establish such groups, it can be useful to create a CSV files with metadata describing these text. Next to the basic information about the titles and the filenames of the texts, such metadata files ought to provide values for categorical variables. These are variables which can take a limited number of values. This notebook offers a number of instructions on how you can create such a CSV file containing metdata. \n",
    "\n",
    "\n",
    "## Structure of the CSV file\n",
    "\n",
    "\n",
    "The CSV file containing the metdata minimally needs to contain the describe the `title`. This field will be used as an identifier for the text.\n",
    "\n",
    "The CSV file below is an example.\n",
    "\n",
    "\n",
    "```\n",
    "path,title,year_of_publication,class\n",
    "Corpus/Ulysses.txt,Ulysses,1920,A\n",
    "Corpus/ThroughtheLookingGlass.txt,ThroughtheLookingGlass,1871,A\n",
    "Corpus/HeartofDarkness.txt,HeartofDarkness,1899,A\n",
    "Corpus/ARoomWithaView.txt,ARoomWithaView,1908,B\n",
    "Corpus/ATaleofTwoCities.txt,ATaleofTwoCities,1859,B\n",
    "Corpus/PrideandPrejudice.txt,PrideandPrejudice,1813,B\n",
    "```\n",
    "\n",
    "\n",
    "The CSV file can of course be created manually. The remainder of this notebook also contains some code which can help you to make such a file. \n",
    "\n",
    "\n",
    "## Collect all the file names\n",
    "\n",
    "Firstly, if you have made a directory containing all the files in your corpus, we can collect all path to these files, and save these in a list named `corpus`. "
   ]
  },
  {
   "cell_type": "code",
   "execution_count": 2,
   "id": "df13198b",
   "metadata": {},
   "outputs": [],
   "source": [
    "dir = 'Corpus'\n",
    "corpus = []\n",
    "\n",
    "for file in os.listdir(dir):\n",
    "    if not(re.search(r'^\\.' , file)): \n",
    "        path = os.path.join(dir,file)\n",
    "        corpus.append(path)"
   ]
  },
  {
   "cell_type": "markdown",
   "id": "c706994a",
   "metadata": {},
   "source": [
    "## Collect all the titles"
   ]
  },
  {
   "cell_type": "markdown",
   "id": "b72ed114",
   "metadata": {},
   "source": [
    "If the file names reflect the titles of your texts, these titles can be extracted using the finction that is dfefined below. "
   ]
  },
  {
   "cell_type": "code",
   "execution_count": 3,
   "id": "71b33565",
   "metadata": {},
   "outputs": [],
   "source": [
    "def extract_title(path):\n",
    "    title = os.path.basename(path)\n",
    "    title = re.sub( r'[.]txt$' , '' , title )\n",
    "    return title"
   ]
  },
  {
   "cell_type": "markdown",
   "id": "d9b179ec",
   "metadata": {},
   "source": [
    "Using the list named `corpus` that was created earlier, the CSV file can already be generated partly. "
   ]
  },
  {
   "cell_type": "code",
   "execution_count": 4,
   "id": "0b2ad251",
   "metadata": {},
   "outputs": [
    {
     "name": "stdout",
     "output_type": "stream",
     "text": [
      "path,title\n",
      "Corpus\\A_Confederate_Girls_Diary.txt,A_Confederate_Girls_Diary\n",
      "Corpus\\A_Diary_from_Dixie.txt,A_Diary_from_Dixie\n",
      "Corpus\\A_Virginia_Girl_in_the_Civil_War.txt,A_Virginia_Girl_in_the_Civil_War\n",
      "Corpus\\A_Womans_Wartime_Journal.txt,A_Womans_Wartime_Journal\n",
      "Corpus\\A_Womans_War_Record.txt,A_Womans_War_Record\n",
      "Corpus\\Belle_Boyd_in_Camp_and_Prison_Vol1.txt,Belle_Boyd_in_Camp_and_Prison_Vol1\n",
      "Corpus\\Belle_Boyd_in_Camp_and_Prison_Vol2.txt,Belle_Boyd_in_Camp_and_Prison_Vol2\n",
      "Corpus\\Diary_of_Belle_Edmondson.txt,Diary_of_Belle_Edmondson\n",
      "Corpus\\Reminiscences_of_the_Civil_War.txt,Reminiscences_of_the_Civil_War\n",
      "Corpus\\The_War-Time_Journal_of_a_Georgia_Girl.txt,The_War-Time_Journal_of_a_Georgia_Girl\n",
      "Corpus\\Two_Diaries_from_Middle_St._Johns.txt,Two_Diaries_from_Middle_St._Johns\n"
     ]
    }
   ],
   "source": [
    "## The header\n",
    "print('path,title')\n",
    "\n",
    "for title in corpus:\n",
    "    print(f'{title},{extract_title(title)}')"
   ]
  },
  {
   "cell_type": "markdown",
   "id": "ed9e1206",
   "metadata": {},
   "source": [
    "## Adding additional fields\n",
    "\n",
    "The input below can help you to add additional fields."
   ]
  },
  {
   "cell_type": "code",
   "execution_count": 5,
   "id": "9e9efdb0",
   "metadata": {
    "scrolled": true
   },
   "outputs": [
    {
     "name": "stdout",
     "output_type": "stream",
     "text": [
      "How many columns would you like to add?\n",
      "4\n"
     ]
    }
   ],
   "source": [
    "nr_columns = int(input( \"How many columns would you like to add?\\n\"))"
   ]
  },
  {
   "cell_type": "code",
   "execution_count": 6,
   "id": "5790125f",
   "metadata": {},
   "outputs": [
    {
     "name": "stdout",
     "output_type": "stream",
     "text": [
      "Name of column 1:\n",
      "first- vs. second-hand account\n",
      "Name of column 2:\n",
      "years described\n",
      "Name of column 3:\n",
      "year of publication\n",
      "Name of column 4:\n",
      "age of the author\n"
     ]
    }
   ],
   "source": [
    "column_names = []\n",
    "for column in range(1,nr_columns+1):\n",
    "    column_name = input( f\"Name of column {column}:\\n\")\n",
    "    column_names.append(column_name)\n",
    "    "
   ]
  },
  {
   "cell_type": "code",
   "execution_count": 7,
   "id": "c77fdd27",
   "metadata": {},
   "outputs": [
    {
     "name": "stdout",
     "output_type": "stream",
     "text": [
      "A_Confederate_Girls_Diary:\n",
      "first- vs. second-hand account: first-hand\n",
      "years described: 1862-1865\n",
      "year of publication: 1913\n",
      "age of the author: 20-23\n",
      "A_Diary_from_Dixie:\n",
      "first- vs. second-hand account: first-hand\n",
      "years described: 1860-1865\n",
      "year of publication: 1905\n",
      "age of the author: 37-42\n",
      "A_Virginia_Girl_in_the_Civil_War:\n",
      "first- vs. second-hand account: second-hand\n",
      "years described: 1861-1865\n",
      "year of publication: 1903\n",
      "age of the author: 4-8 (during years described) / 46 (at time of publication)\n",
      "A_Womans_Wartime_Journal:\n",
      "first- vs. second-hand account: first-hand\n",
      "years described: 1864-1865\n",
      "year of publication: 1918\n",
      "age of the author: 47-48\n",
      "A_Womans_War_Record:\n",
      "first- vs. second-hand account: first-hand\n",
      "years described: 1861-1865\n",
      "year of publication: 1889\n",
      "age of the author: 19-23\n",
      "Belle_Boyd_in_Camp_and_Prison_Vol1:\n",
      "first- vs. second-hand account: first-hand\n",
      "years described: 1860-1863\n",
      "year of publication: 1865\n",
      "age of the author: 16-19\n",
      "Belle_Boyd_in_Camp_and_Prison_Vol2:\n",
      "first- vs. second-hand account: first-hand\n",
      "years described: 1864-1865\n",
      "year of publication: 1865\n",
      "age of the author: 20-21\n",
      "Diary_of_Belle_Edmondson:\n",
      "first- vs. second-hand account: first-hand\n",
      "years described: 1864\n",
      "year of publication: N/A\n",
      "age of the author: 24\n",
      "Reminiscences_of_the_Civil_War:\n",
      "first- vs. second-hand account: first-hand\n",
      "years described: 1861-1865?\n",
      "year of publication: 1916\n",
      "age of the author: Unknown\n",
      "The_War-Time_Journal_of_a_Georgia_Girl:\n",
      "first- vs. second-hand account: first-hand\n",
      "years described: 1864-1865\n",
      "year of publication: 1908\n",
      "age of the author: 24-25\n",
      "Two_Diaries_from_Middle_St._Johns:\n",
      "first- vs. second-hand account: first-hand\n",
      "years described: 1865\n",
      "year of publication: 1921\n",
      "age of the author: 25 / Unknown\n"
     ]
    }
   ],
   "source": [
    "csv = []\n",
    "for file in corpus:\n",
    "    print(f'{extract_title(file)}:')\n",
    "    row = []\n",
    "    row.extend([file,extract_title(file)])\n",
    "    for column_name in column_names:\n",
    "        value = input(f\"{column_name}: \")\n",
    "        row.append(value)\n",
    "    csv.append(row)"
   ]
  },
  {
   "cell_type": "code",
   "execution_count": 8,
   "id": "7151e1f0",
   "metadata": {},
   "outputs": [
    {
     "name": "stdout",
     "output_type": "stream",
     "text": [
      "['path', 'title', 'first- vs. second-hand account', 'years described', 'year of publication', 'age of the author']\n"
     ]
    }
   ],
   "source": [
    "column_names = ['path','title'] + column_names\n",
    "print(column_names)"
   ]
  },
  {
   "cell_type": "markdown",
   "id": "b3ecea20",
   "metadata": {},
   "source": [
    "The values that were collected in this way will finally be saved as a CSV file named `metadata.csv`. "
   ]
  },
  {
   "cell_type": "code",
   "execution_count": 9,
   "id": "8c9cc529",
   "metadata": {},
   "outputs": [],
   "source": [
    "df = pd.DataFrame(csv, columns = column_names )\n",
    "df.to_csv('metadata.csv' , index=False)"
   ]
  },
  {
   "cell_type": "code",
   "execution_count": null,
   "id": "e21f55e9",
   "metadata": {},
   "outputs": [],
   "source": []
  }
 ],
 "metadata": {
  "kernelspec": {
   "display_name": "Python 3 (ipykernel)",
   "language": "python",
   "name": "python3"
  },
  "language_info": {
   "codemirror_mode": {
    "name": "ipython",
    "version": 3
   },
   "file_extension": ".py",
   "mimetype": "text/x-python",
   "name": "python",
   "nbconvert_exporter": "python",
   "pygments_lexer": "ipython3",
   "version": "3.9.7"
  }
 },
 "nbformat": 4,
 "nbformat_minor": 5
}
